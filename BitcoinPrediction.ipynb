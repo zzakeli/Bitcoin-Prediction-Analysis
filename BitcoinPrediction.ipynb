{
 "cells": [
  {
   "cell_type": "code",
   "execution_count": 369,
   "id": "9e151c32",
   "metadata": {},
   "outputs": [],
   "source": [
    "import pandas as pd\n",
    "import yfinance as yf\n",
    "import numpy as np\n",
    "import seaborn as sns\n",
    "import matplotlib.pyplot as plt\n",
    "import matplotlib.dates as mdates\n",
    "from sklearn.tree import DecisionTreeClassifier\n",
    "from sklearn.linear_model import LinearRegression\n",
    "from sklearn.model_selection import train_test_split, GridSearchCV\n",
    "from sklearn.impute import SimpleImputer\n",
    "from sklearn.preprocessing import StandardScaler\n",
    "from sklearn.pipeline import Pipeline\n",
    "from sklearn.metrics import accuracy_score, r2_score, classification_report, confusion_matrix, mean_squared_error"
   ]
  },
  {
   "cell_type": "code",
   "execution_count": 370,
   "id": "a3696e93",
   "metadata": {},
   "outputs": [
    {
     "name": "stderr",
     "output_type": "stream",
     "text": [
      "C:\\Users\\acer\\AppData\\Local\\Temp\\ipykernel_16668\\308980421.py:1: FutureWarning: YF.download() has changed argument auto_adjust default to True\n",
      "  transform_to_csv = yf.download('BTC-USD', start='2020-01-01', end='2025-07-27', interval='1d')\n",
      "[*********************100%***********************]  1 of 1 completed\n"
     ]
    },
    {
     "data": {
      "text/html": [
       "<div>\n",
       "<style scoped>\n",
       "    .dataframe tbody tr th:only-of-type {\n",
       "        vertical-align: middle;\n",
       "    }\n",
       "\n",
       "    .dataframe tbody tr th {\n",
       "        vertical-align: top;\n",
       "    }\n",
       "\n",
       "    .dataframe thead th {\n",
       "        text-align: right;\n",
       "    }\n",
       "</style>\n",
       "<table border=\"1\" class=\"dataframe\">\n",
       "  <thead>\n",
       "    <tr style=\"text-align: right;\">\n",
       "      <th></th>\n",
       "      <th>Price</th>\n",
       "      <th>Close</th>\n",
       "      <th>High</th>\n",
       "      <th>Low</th>\n",
       "      <th>Open</th>\n",
       "      <th>Volume</th>\n",
       "    </tr>\n",
       "  </thead>\n",
       "  <tbody>\n",
       "    <tr>\n",
       "      <th>0</th>\n",
       "      <td>Ticker</td>\n",
       "      <td>BTC-USD</td>\n",
       "      <td>BTC-USD</td>\n",
       "      <td>BTC-USD</td>\n",
       "      <td>BTC-USD</td>\n",
       "      <td>BTC-USD</td>\n",
       "    </tr>\n",
       "    <tr>\n",
       "      <th>1</th>\n",
       "      <td>Date</td>\n",
       "      <td>NaN</td>\n",
       "      <td>NaN</td>\n",
       "      <td>NaN</td>\n",
       "      <td>NaN</td>\n",
       "      <td>NaN</td>\n",
       "    </tr>\n",
       "    <tr>\n",
       "      <th>2</th>\n",
       "      <td>2020-01-01</td>\n",
       "      <td>7200.17431640625</td>\n",
       "      <td>7254.33056640625</td>\n",
       "      <td>7174.9443359375</td>\n",
       "      <td>7194.89208984375</td>\n",
       "      <td>18565664997</td>\n",
       "    </tr>\n",
       "    <tr>\n",
       "      <th>3</th>\n",
       "      <td>2020-01-02</td>\n",
       "      <td>6985.47021484375</td>\n",
       "      <td>7212.1552734375</td>\n",
       "      <td>6935.27001953125</td>\n",
       "      <td>7202.55126953125</td>\n",
       "      <td>20802083465</td>\n",
       "    </tr>\n",
       "    <tr>\n",
       "      <th>4</th>\n",
       "      <td>2020-01-03</td>\n",
       "      <td>7344.88427734375</td>\n",
       "      <td>7413.71533203125</td>\n",
       "      <td>6914.99609375</td>\n",
       "      <td>6984.4287109375</td>\n",
       "      <td>28111481032</td>\n",
       "    </tr>\n",
       "  </tbody>\n",
       "</table>\n",
       "</div>"
      ],
      "text/plain": [
       "        Price             Close              High               Low  \\\n",
       "0      Ticker           BTC-USD           BTC-USD           BTC-USD   \n",
       "1        Date               NaN               NaN               NaN   \n",
       "2  2020-01-01  7200.17431640625  7254.33056640625   7174.9443359375   \n",
       "3  2020-01-02  6985.47021484375   7212.1552734375  6935.27001953125   \n",
       "4  2020-01-03  7344.88427734375  7413.71533203125     6914.99609375   \n",
       "\n",
       "               Open       Volume  \n",
       "0           BTC-USD      BTC-USD  \n",
       "1               NaN          NaN  \n",
       "2  7194.89208984375  18565664997  \n",
       "3  7202.55126953125  20802083465  \n",
       "4   6984.4287109375  28111481032  "
      ]
     },
     "execution_count": 370,
     "metadata": {},
     "output_type": "execute_result"
    }
   ],
   "source": [
    "transform_to_csv = yf.download('BTC-USD', start='2020-01-01', end='2025-07-27', interval='1d')\n",
    "\n",
    "transform_to_csv.to_csv(\"dataset/bitcoin_dataset.csv\")\n",
    "file_path = 'dataset/bitcoin_dataset.csv'\n",
    "df = pd.read_csv(file_path)\n",
    "\n",
    "df.head()"
   ]
  },
  {
   "cell_type": "code",
   "execution_count": 371,
   "id": "a9688ee3",
   "metadata": {},
   "outputs": [
    {
     "data": {
      "text/html": [
       "<div>\n",
       "<style scoped>\n",
       "    .dataframe tbody tr th:only-of-type {\n",
       "        vertical-align: middle;\n",
       "    }\n",
       "\n",
       "    .dataframe tbody tr th {\n",
       "        vertical-align: top;\n",
       "    }\n",
       "\n",
       "    .dataframe thead th {\n",
       "        text-align: right;\n",
       "    }\n",
       "</style>\n",
       "<table border=\"1\" class=\"dataframe\">\n",
       "  <thead>\n",
       "    <tr style=\"text-align: right;\">\n",
       "      <th></th>\n",
       "      <th>Close</th>\n",
       "      <th>High</th>\n",
       "      <th>Low</th>\n",
       "      <th>Open</th>\n",
       "      <th>Volume</th>\n",
       "      <th>Date</th>\n",
       "    </tr>\n",
       "  </thead>\n",
       "  <tbody>\n",
       "    <tr>\n",
       "      <th>2</th>\n",
       "      <td>7200.17431640625</td>\n",
       "      <td>7254.33056640625</td>\n",
       "      <td>7174.9443359375</td>\n",
       "      <td>7194.89208984375</td>\n",
       "      <td>18565664997</td>\n",
       "      <td>2020-01-01</td>\n",
       "    </tr>\n",
       "    <tr>\n",
       "      <th>3</th>\n",
       "      <td>6985.47021484375</td>\n",
       "      <td>7212.1552734375</td>\n",
       "      <td>6935.27001953125</td>\n",
       "      <td>7202.55126953125</td>\n",
       "      <td>20802083465</td>\n",
       "      <td>2020-01-02</td>\n",
       "    </tr>\n",
       "    <tr>\n",
       "      <th>4</th>\n",
       "      <td>7344.88427734375</td>\n",
       "      <td>7413.71533203125</td>\n",
       "      <td>6914.99609375</td>\n",
       "      <td>6984.4287109375</td>\n",
       "      <td>28111481032</td>\n",
       "      <td>2020-01-03</td>\n",
       "    </tr>\n",
       "    <tr>\n",
       "      <th>5</th>\n",
       "      <td>7410.65673828125</td>\n",
       "      <td>7427.3857421875</td>\n",
       "      <td>7309.51416015625</td>\n",
       "      <td>7345.37548828125</td>\n",
       "      <td>18444271275</td>\n",
       "      <td>2020-01-04</td>\n",
       "    </tr>\n",
       "    <tr>\n",
       "      <th>6</th>\n",
       "      <td>7411.3173828125</td>\n",
       "      <td>7544.4970703125</td>\n",
       "      <td>7400.53564453125</td>\n",
       "      <td>7410.45166015625</td>\n",
       "      <td>19725074095</td>\n",
       "      <td>2020-01-05</td>\n",
       "    </tr>\n",
       "  </tbody>\n",
       "</table>\n",
       "</div>"
      ],
      "text/plain": [
       "              Close              High               Low              Open  \\\n",
       "2  7200.17431640625  7254.33056640625   7174.9443359375  7194.89208984375   \n",
       "3  6985.47021484375   7212.1552734375  6935.27001953125  7202.55126953125   \n",
       "4  7344.88427734375  7413.71533203125     6914.99609375   6984.4287109375   \n",
       "5  7410.65673828125   7427.3857421875  7309.51416015625  7345.37548828125   \n",
       "6   7411.3173828125   7544.4970703125  7400.53564453125  7410.45166015625   \n",
       "\n",
       "        Volume       Date  \n",
       "2  18565664997 2020-01-01  \n",
       "3  20802083465 2020-01-02  \n",
       "4  28111481032 2020-01-03  \n",
       "5  18444271275 2020-01-04  \n",
       "6  19725074095 2020-01-05  "
      ]
     },
     "execution_count": 371,
     "metadata": {},
     "output_type": "execute_result"
    }
   ],
   "source": [
    "df['Date'] = df['Price']\n",
    "df = df.drop(index=[0,1], columns='Price')\n",
    "df['Date'] = pd.to_datetime(df['Date'])\n",
    "df.head()"
   ]
  },
  {
   "cell_type": "code",
   "execution_count": 372,
   "id": "aff643e0",
   "metadata": {},
   "outputs": [
    {
     "data": {
      "text/plain": [
       "(2032, 6)"
      ]
     },
     "execution_count": 372,
     "metadata": {},
     "output_type": "execute_result"
    }
   ],
   "source": [
    "df.shape"
   ]
  },
  {
   "cell_type": "code",
   "execution_count": 373,
   "id": "c5094a7f",
   "metadata": {},
   "outputs": [
    {
     "data": {
      "text/plain": [
       "Close     0\n",
       "High      0\n",
       "Low       0\n",
       "Open      0\n",
       "Volume    0\n",
       "Date      0\n",
       "dtype: int64"
      ]
     },
     "execution_count": 373,
     "metadata": {},
     "output_type": "execute_result"
    }
   ],
   "source": [
    "df.isna().sum()"
   ]
  },
  {
   "cell_type": "code",
   "execution_count": 374,
   "id": "6c650627",
   "metadata": {},
   "outputs": [
    {
     "name": "stdout",
     "output_type": "stream",
     "text": [
      "<class 'pandas.core.frame.DataFrame'>\n",
      "RangeIndex: 2032 entries, 2 to 2033\n",
      "Data columns (total 6 columns):\n",
      " #   Column  Non-Null Count  Dtype         \n",
      "---  ------  --------------  -----         \n",
      " 0   Close   2032 non-null   object        \n",
      " 1   High    2032 non-null   object        \n",
      " 2   Low     2032 non-null   object        \n",
      " 3   Open    2032 non-null   object        \n",
      " 4   Volume  2032 non-null   object        \n",
      " 5   Date    2032 non-null   datetime64[ns]\n",
      "dtypes: datetime64[ns](1), object(5)\n",
      "memory usage: 95.4+ KB\n"
     ]
    }
   ],
   "source": [
    "df.info()"
   ]
  },
  {
   "cell_type": "code",
   "execution_count": 375,
   "id": "e8f4ca7b",
   "metadata": {},
   "outputs": [
    {
     "data": {
      "text/html": [
       "<div>\n",
       "<style scoped>\n",
       "    .dataframe tbody tr th:only-of-type {\n",
       "        vertical-align: middle;\n",
       "    }\n",
       "\n",
       "    .dataframe tbody tr th {\n",
       "        vertical-align: top;\n",
       "    }\n",
       "\n",
       "    .dataframe thead th {\n",
       "        text-align: right;\n",
       "    }\n",
       "</style>\n",
       "<table border=\"1\" class=\"dataframe\">\n",
       "  <thead>\n",
       "    <tr style=\"text-align: right;\">\n",
       "      <th></th>\n",
       "      <th>Date</th>\n",
       "    </tr>\n",
       "  </thead>\n",
       "  <tbody>\n",
       "    <tr>\n",
       "      <th>count</th>\n",
       "      <td>2032</td>\n",
       "    </tr>\n",
       "    <tr>\n",
       "      <th>mean</th>\n",
       "      <td>2022-10-12 12:00:00</td>\n",
       "    </tr>\n",
       "    <tr>\n",
       "      <th>min</th>\n",
       "      <td>2020-01-01 00:00:00</td>\n",
       "    </tr>\n",
       "    <tr>\n",
       "      <th>25%</th>\n",
       "      <td>2021-05-22 18:00:00</td>\n",
       "    </tr>\n",
       "    <tr>\n",
       "      <th>50%</th>\n",
       "      <td>2022-10-12 12:00:00</td>\n",
       "    </tr>\n",
       "    <tr>\n",
       "      <th>75%</th>\n",
       "      <td>2024-03-03 06:00:00</td>\n",
       "    </tr>\n",
       "    <tr>\n",
       "      <th>max</th>\n",
       "      <td>2025-07-24 00:00:00</td>\n",
       "    </tr>\n",
       "  </tbody>\n",
       "</table>\n",
       "</div>"
      ],
      "text/plain": [
       "                      Date\n",
       "count                 2032\n",
       "mean   2022-10-12 12:00:00\n",
       "min    2020-01-01 00:00:00\n",
       "25%    2021-05-22 18:00:00\n",
       "50%    2022-10-12 12:00:00\n",
       "75%    2024-03-03 06:00:00\n",
       "max    2025-07-24 00:00:00"
      ]
     },
     "execution_count": 375,
     "metadata": {},
     "output_type": "execute_result"
    }
   ],
   "source": [
    "df.describe()"
   ]
  },
  {
   "cell_type": "code",
   "execution_count": 376,
   "id": "186ce3cd",
   "metadata": {},
   "outputs": [
    {
     "name": "stdout",
     "output_type": "stream",
     "text": [
      "<class 'pandas.core.frame.DataFrame'>\n",
      "RangeIndex: 2032 entries, 2 to 2033\n",
      "Data columns (total 6 columns):\n",
      " #   Column  Non-Null Count  Dtype         \n",
      "---  ------  --------------  -----         \n",
      " 0   Close   2032 non-null   float64       \n",
      " 1   High    2032 non-null   float64       \n",
      " 2   Low     2032 non-null   float64       \n",
      " 3   Open    2032 non-null   float64       \n",
      " 4   Volume  2032 non-null   float64       \n",
      " 5   Date    2032 non-null   datetime64[ns]\n",
      "dtypes: datetime64[ns](1), float64(5)\n",
      "memory usage: 95.4 KB\n"
     ]
    }
   ],
   "source": [
    "#FFEATURE CONVERSION\n",
    "\n",
    "df['Close'] = df['Close'].astype(float)\n",
    "df['Open'] = df['Open'].astype(float)\n",
    "df['High'] = df['High'].astype(float)\n",
    "df['Low'] = df['Low'].astype(float)\n",
    "df['Volume'] = df['Volume'].astype(float)\n",
    "df.info()"
   ]
  },
  {
   "cell_type": "code",
   "execution_count": 377,
   "id": "e99c313f",
   "metadata": {},
   "outputs": [
    {
     "data": {
      "image/png": "[encoded data removed]",
      "text/plain": [
       "<Figure size 1200x600 with 1 Axes>"
      ]
     },
     "metadata": {},
     "output_type": "display_data"
    },
    {
     "data": {
      "image/png": "[encoded data removed]",
      "text/plain": [
       "<Figure size 1200x600 with 1 Axes>"
      ]
     },
     "metadata": {},
     "output_type": "display_data"
    }
   ],
   "source": [
    "plt.figure(figsize=(12, 6))\n",
    "sns.lineplot(x='Date',y='Close',data=df)\n",
    "\n",
    "plt.title('BTC Closing Price Graph')\n",
    "\n",
    "#this code came from gpt lol\n",
    "plt.gca().xaxis.set_major_formatter(mdates.DateFormatter('%Y'))\n",
    "plt.gca().xaxis.set_major_locator(mdates.YearLocator())\n",
    "plt.show()\n",
    "\n",
    "\n",
    "#FEATURE ENGINEERED TO SHOW BAR AND LINE GRAPH\n",
    "df['Year'] = df['Date'].dt.year\n",
    "\n",
    "year_only = df['Year'].unique()\n",
    "\n",
    "volum_per_year = df.groupby('Year')['Volume'].sum()\n",
    "\n",
    "plt.figure(figsize=(12, 6))\n",
    "sns.barplot(x=year_only,y=volum_per_year, hue=year_only)\n",
    "\n",
    "plt.title('Volume per year')\n",
    "plt.show()"
   ]
  },
  {
   "cell_type": "code",
   "execution_count": null,
   "id": "1d7839cc",
   "metadata": {},
   "outputs": [],
   "source": [
    "\"\"\"\n",
    "The graph shows how digital era emerge during pandemic,\n",
    "pre pandemic: 2020\n",
    "-it describes normal and stable market volume\n",
    "\n",
    "mid pandemic: 2021-2022\n",
    "-shows how many people started to merge with digital era, stares in front of the computer all day\n",
    "\n",
    "post pandemic: 2023\n",
    "-approaches the end of an era\n",
    "\n",
    "after pandemic: 2024-present\n",
    "-market stabilizes and goes back to normal\n",
    "\"\"\""
   ]
  }
 ],
 "metadata": {
  "kernelspec": {
   "display_name": "venv",
   "language": "python",
   "name": "python3"
  },
  "language_info": {
   "codemirror_mode": {
    "name": "ipython",
    "version": 3
   },
   "file_extension": ".py",
   "mimetype": "text/x-python",
   "name": "python",
   "nbconvert_exporter": "python",
   "pygments_lexer": "ipython3",
   "version": "3.10.8"
  }
 },
 "nbformat": 4,
 "nbformat_minor": 5
}
